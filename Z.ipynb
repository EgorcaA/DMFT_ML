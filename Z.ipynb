{
 "cells": [
  {
   "cell_type": "code",
   "execution_count": 10,
   "metadata": {},
   "outputs": [],
   "source": [
    "import torch\n",
    "import torch.nn as nn\n",
    "# import torchsummary\n",
    "import torchmetrics\n",
    "from IPython.display import clear_output\n",
    "from matplotlib import pyplot as plt\n",
    "from matplotlib.pyplot import figure\n",
    "import numpy as np\n",
    "plt.rcParams['text.usetex'] = True\n",
    "from tqdm import tqdm\n",
    "import os\n",
    "from h5 import *\n",
    "import warnings\n",
    "warnings.filterwarnings(\"ignore\", category=FutureWarning)\n",
    "\n",
    "import time\n",
    "from sklearn.model_selection import train_test_split\n",
    "\n",
    "device = 'cuda:0' if torch.cuda.is_available() else 'cpu'"
   ]
  },
  {
   "cell_type": "code",
   "execution_count": 8,
   "metadata": {},
   "outputs": [],
   "source": [
    "from triqs.operators import *\n",
    "from triqs.gf import *\n",
    "from triqs.gf.descriptors import MatsubaraToLegendre\n",
    "\n",
    "from triqs_tprf.ParameterCollection import ParameterCollection\n",
    "from triqs_tprf.ParameterCollection import ParameterCollections\n"
   ]
  },
  {
   "cell_type": "code",
   "execution_count": 9,
   "metadata": {},
   "outputs": [
    {
     "name": "stdout",
     "output_type": "stream",
     "text": [
      "model loaded from ./models/model_v4\n"
     ]
    }
   ],
   "source": [
    "import sys\n",
    "sys.path.append(\"./src\")\n",
    "\n",
    "from ml_model import MLSolver   \n",
    "from DMFT_routins import *\n",
    "model_path='./models/model_v4'\n",
    "MLmodel = MLSolver().to(device, torch.float32)\n",
    "MLmodel.load_checkpoint(checkpoint_path=model_path)\n"
   ]
  },
  {
   "cell_type": "code",
   "execution_count": 24,
   "metadata": {},
   "outputs": [
    {
     "name": "stderr",
     "output_type": "stream",
     "text": [
      "1it [00:00,  4.34it/s]"
     ]
    },
    {
     "name": "stdout",
     "output_type": "stream",
     "text": [
      "--> DMFT Iteration: 0\n",
      "--> DMFT Convergence: dG_l = 1.900131\n",
      "--> DMFT Iteration: 1\n",
      "--> DMFT Convergence: dG_l = 0.385237\n",
      "--> DMFT Iteration: 2\n",
      "--> DMFT Convergence: dG_l = 0.098067\n",
      "--> DMFT Iteration: 3\n",
      "--> DMFT Convergence: dG_l = 0.024321\n",
      "--> DMFT Iteration: 4\n",
      "--> DMFT Convergence: dG_l = 0.006407\n",
      "--> DMFT Iteration: 5\n",
      "--> DMFT Convergence: dG_l = 0.001511\n",
      "--> DMFT Converged: dG_l = 0.001511\n",
      "--> DMFT Iteration: 0\n"
     ]
    },
    {
     "name": "stderr",
     "output_type": "stream",
     "text": [
      "2it [00:00,  4.81it/s]"
     ]
    },
    {
     "name": "stdout",
     "output_type": "stream",
     "text": [
      "--> DMFT Convergence: dG_l = 3.305005\n",
      "--> DMFT Iteration: 1\n",
      "--> DMFT Convergence: dG_l = 0.296497\n",
      "--> DMFT Iteration: 2\n",
      "--> DMFT Convergence: dG_l = 0.040147\n",
      "--> DMFT Iteration: 3\n",
      "--> DMFT Convergence: dG_l = 0.010773\n",
      "--> DMFT Iteration: 4\n",
      "--> DMFT Convergence: dG_l = 0.001553\n",
      "--> DMFT Converged: dG_l = 0.001553\n",
      "--> DMFT Iteration: 0\n",
      "--> DMFT Convergence: dG_l = 1.644384\n",
      "--> DMFT Iteration: 1\n",
      "--> DMFT Convergence: dG_l = 0.060538\n",
      "--> DMFT Iteration: 2\n"
     ]
    },
    {
     "name": "stderr",
     "output_type": "stream",
     "text": [
      "4it [00:00,  5.87it/s]"
     ]
    },
    {
     "name": "stdout",
     "output_type": "stream",
     "text": [
      "--> DMFT Convergence: dG_l = 0.009131\n",
      "--> DMFT Iteration: 3\n",
      "--> DMFT Convergence: dG_l = 0.000722\n",
      "--> DMFT Converged: dG_l = 0.000722\n",
      "--> DMFT Iteration: 0\n",
      "--> DMFT Convergence: dG_l = 3.051952\n",
      "--> DMFT Iteration: 1\n",
      "--> DMFT Convergence: dG_l = 0.264754\n",
      "--> DMFT Iteration: 2\n",
      "--> DMFT Convergence: dG_l = 0.012898\n",
      "--> DMFT Iteration: 3\n",
      "--> DMFT Convergence: dG_l = 0.001916\n",
      "--> DMFT Converged: dG_l = 0.001916\n",
      "--> DMFT Iteration: 0\n"
     ]
    },
    {
     "name": "stderr",
     "output_type": "stream",
     "text": [
      "5it [00:00,  6.10it/s]"
     ]
    },
    {
     "name": "stdout",
     "output_type": "stream",
     "text": [
      "--> DMFT Convergence: dG_l = 2.046539\n",
      "--> DMFT Iteration: 1\n",
      "--> DMFT Convergence: dG_l = 0.218975\n",
      "--> DMFT Iteration: 2\n",
      "--> DMFT Convergence: dG_l = 0.027220\n",
      "--> DMFT Iteration: 3\n",
      "--> DMFT Convergence: dG_l = 0.004921\n",
      "--> DMFT Converged: dG_l = 0.004921\n",
      "--> DMFT Iteration: 0\n",
      "--> DMFT Convergence: dG_l = 1.897636\n",
      "--> DMFT Iteration: 1\n",
      "--> DMFT Convergence: dG_l = 0.164306\n",
      "--> DMFT Iteration: 2\n",
      "--> DMFT Convergence: dG_l = 0.011720\n",
      "--> DMFT Iteration: 3\n"
     ]
    },
    {
     "name": "stderr",
     "output_type": "stream",
     "text": [
      "7it [00:01,  6.38it/s]"
     ]
    },
    {
     "name": "stdout",
     "output_type": "stream",
     "text": [
      "--> DMFT Convergence: dG_l = 0.003530\n",
      "--> DMFT Converged: dG_l = 0.003530\n",
      "--> DMFT Iteration: 0\n",
      "--> DMFT Convergence: dG_l = 2.299694\n",
      "--> DMFT Iteration: 1\n",
      "--> DMFT Convergence: dG_l = 0.088434\n",
      "--> DMFT Iteration: 2\n",
      "--> DMFT Convergence: dG_l = 0.010118\n",
      "--> DMFT Iteration: 3\n",
      "--> DMFT Convergence: dG_l = 0.001718\n",
      "--> DMFT Converged: dG_l = 0.001718\n",
      "--> DMFT Iteration: 0\n",
      "--> DMFT Convergence: dG_l = 1.358487\n",
      "--> DMFT Iteration: 1\n"
     ]
    },
    {
     "name": "stderr",
     "output_type": "stream",
     "text": [
      "8it [00:01,  6.44it/s]"
     ]
    },
    {
     "name": "stdout",
     "output_type": "stream",
     "text": [
      "--> DMFT Convergence: dG_l = 0.077377\n",
      "--> DMFT Iteration: 2\n",
      "--> DMFT Convergence: dG_l = 0.007690\n",
      "--> DMFT Iteration: 3\n",
      "--> DMFT Convergence: dG_l = 0.000664\n",
      "--> DMFT Converged: dG_l = 0.000664\n",
      "--> DMFT Iteration: 0\n",
      "--> DMFT Convergence: dG_l = 1.520368\n",
      "--> DMFT Iteration: 1\n",
      "--> DMFT Convergence: dG_l = 0.168472\n",
      "--> DMFT Iteration: 2\n",
      "--> DMFT Convergence: dG_l = 0.036644\n",
      "--> DMFT Iteration: 3\n"
     ]
    },
    {
     "name": "stderr",
     "output_type": "stream",
     "text": [
      "10it [00:01,  6.21it/s]"
     ]
    },
    {
     "name": "stdout",
     "output_type": "stream",
     "text": [
      "--> DMFT Convergence: dG_l = 0.008098\n",
      "--> DMFT Iteration: 4\n",
      "--> DMFT Convergence: dG_l = 0.003972\n",
      "--> DMFT Converged: dG_l = 0.003972\n",
      "--> DMFT Iteration: 0\n",
      "--> DMFT Convergence: dG_l = 1.458132\n",
      "--> DMFT Iteration: 1\n",
      "--> DMFT Convergence: dG_l = 0.112008\n",
      "--> DMFT Iteration: 2\n",
      "--> DMFT Convergence: dG_l = 0.016395\n",
      "--> DMFT Iteration: 3\n",
      "--> DMFT Convergence: dG_l = 0.001923\n",
      "--> DMFT Converged: dG_l = 0.001923\n",
      "--> DMFT Iteration: 0\n"
     ]
    },
    {
     "name": "stderr",
     "output_type": "stream",
     "text": [
      "11it [00:01,  6.31it/s]"
     ]
    },
    {
     "name": "stdout",
     "output_type": "stream",
     "text": [
      "--> DMFT Convergence: dG_l = 2.022424\n",
      "--> DMFT Iteration: 1\n",
      "--> DMFT Convergence: dG_l = 0.086267\n",
      "--> DMFT Iteration: 2\n",
      "--> DMFT Convergence: dG_l = 0.014154\n",
      "--> DMFT Iteration: 3\n",
      "--> DMFT Convergence: dG_l = 0.001750\n",
      "--> DMFT Converged: dG_l = 0.001750\n",
      "--> DMFT Iteration: 0\n",
      "--> DMFT Convergence: dG_l = 1.739962\n",
      "--> DMFT Iteration: 1\n",
      "--> DMFT Convergence: dG_l = 0.152943\n",
      "--> DMFT Iteration: 2\n",
      "--> DMFT Convergence: dG_l = 0.023545\n",
      "--> DMFT Iteration: 3\n"
     ]
    },
    {
     "name": "stderr",
     "output_type": "stream",
     "text": [
      "13it [00:02,  6.40it/s]"
     ]
    },
    {
     "name": "stdout",
     "output_type": "stream",
     "text": [
      "--> DMFT Convergence: dG_l = 0.004023\n",
      "--> DMFT Converged: dG_l = 0.004023\n",
      "--> DMFT Iteration: 0\n",
      "--> DMFT Convergence: dG_l = 2.462020\n",
      "--> DMFT Iteration: 1\n",
      "--> DMFT Convergence: dG_l = 0.122563\n",
      "--> DMFT Iteration: 2\n",
      "--> DMFT Convergence: dG_l = 0.008319\n",
      "--> DMFT Iteration: 3\n",
      "--> DMFT Convergence: dG_l = 0.000663\n",
      "--> DMFT Converged: dG_l = 0.000663\n",
      "--> DMFT Iteration: 0\n",
      "--> DMFT Convergence: dG_l = 2.557037\n",
      "--> DMFT Iteration: 1\n"
     ]
    },
    {
     "name": "stderr",
     "output_type": "stream",
     "text": [
      "14it [00:02,  6.48it/s]"
     ]
    },
    {
     "name": "stdout",
     "output_type": "stream",
     "text": [
      "--> DMFT Convergence: dG_l = 0.184474\n",
      "--> DMFT Iteration: 2\n",
      "--> DMFT Convergence: dG_l = 0.019861\n",
      "--> DMFT Iteration: 3\n",
      "--> DMFT Convergence: dG_l = 0.002950\n",
      "--> DMFT Converged: dG_l = 0.002950\n",
      "--> DMFT Iteration: 0\n",
      "--> DMFT Convergence: dG_l = 3.692921\n",
      "--> DMFT Iteration: 1\n",
      "--> DMFT Convergence: dG_l = 0.192803\n",
      "--> DMFT Iteration: 2\n",
      "--> DMFT Convergence: dG_l = 0.040769\n",
      "--> DMFT Iteration: 3\n"
     ]
    },
    {
     "name": "stderr",
     "output_type": "stream",
     "text": [
      "16it [00:02,  6.65it/s]"
     ]
    },
    {
     "name": "stdout",
     "output_type": "stream",
     "text": [
      "--> DMFT Convergence: dG_l = 0.004124\n",
      "--> DMFT Converged: dG_l = 0.004124\n",
      "--> DMFT Iteration: 0\n",
      "--> DMFT Convergence: dG_l = 2.238544\n",
      "--> DMFT Iteration: 1\n",
      "--> DMFT Convergence: dG_l = 0.170344\n",
      "--> DMFT Iteration: 2\n",
      "--> DMFT Convergence: dG_l = 0.012566\n",
      "--> DMFT Iteration: 3\n",
      "--> DMFT Convergence: dG_l = 0.000815\n",
      "--> DMFT Converged: dG_l = 0.000815\n",
      "--> DMFT Iteration: 0\n",
      "--> DMFT Convergence: dG_l = 2.772410\n",
      "--> DMFT Iteration: 1\n"
     ]
    },
    {
     "name": "stderr",
     "output_type": "stream",
     "text": [
      "17it [00:02,  6.17it/s]"
     ]
    },
    {
     "name": "stdout",
     "output_type": "stream",
     "text": [
      "--> DMFT Convergence: dG_l = 0.289395\n",
      "--> DMFT Iteration: 2\n",
      "--> DMFT Convergence: dG_l = 0.038636\n",
      "--> DMFT Iteration: 3\n",
      "--> DMFT Convergence: dG_l = 0.006416\n",
      "--> DMFT Iteration: 4\n",
      "--> DMFT Convergence: dG_l = 0.000993\n",
      "--> DMFT Converged: dG_l = 0.000993\n",
      "--> DMFT Iteration: 0\n",
      "--> DMFT Convergence: dG_l = 2.569440\n",
      "--> DMFT Iteration: 1\n",
      "--> DMFT Convergence: dG_l = 0.147964\n",
      "--> DMFT Iteration: 2\n",
      "--> DMFT Convergence: dG_l = 0.030478\n",
      "--> DMFT Iteration: 3\n"
     ]
    },
    {
     "name": "stderr",
     "output_type": "stream",
     "text": [
      "19it [00:03,  6.86it/s]"
     ]
    },
    {
     "name": "stdout",
     "output_type": "stream",
     "text": [
      "--> DMFT Convergence: dG_l = 0.002508\n",
      "--> DMFT Converged: dG_l = 0.002508\n",
      "--> DMFT Iteration: 0\n",
      "--> DMFT Convergence: dG_l = 2.332165\n",
      "--> DMFT Iteration: 1\n",
      "--> DMFT Convergence: dG_l = 0.061001\n",
      "--> DMFT Iteration: 2\n",
      "--> DMFT Convergence: dG_l = 0.003810\n",
      "--> DMFT Converged: dG_l = 0.003810\n",
      "--> DMFT Iteration: 0\n",
      "--> DMFT Convergence: dG_l = 1.839793\n",
      "--> DMFT Iteration: 1\n",
      "--> DMFT Convergence: dG_l = 0.659508\n",
      "--> DMFT Iteration: 2\n"
     ]
    },
    {
     "name": "stderr",
     "output_type": "stream",
     "text": [
      "20it [00:03,  5.54it/s]"
     ]
    },
    {
     "name": "stdout",
     "output_type": "stream",
     "text": [
      "--> DMFT Convergence: dG_l = 0.137101\n",
      "--> DMFT Iteration: 3\n",
      "--> DMFT Convergence: dG_l = 0.050098\n",
      "--> DMFT Iteration: 4\n",
      "--> DMFT Convergence: dG_l = 0.027968\n",
      "--> DMFT Iteration: 5\n",
      "--> DMFT Convergence: dG_l = 0.010261\n",
      "--> DMFT Iteration: 6\n",
      "--> DMFT Convergence: dG_l = 0.003014\n",
      "--> DMFT Converged: dG_l = 0.003014\n",
      "--> DMFT Iteration: 0\n",
      "--> DMFT Convergence: dG_l = 3.248054\n",
      "--> DMFT Iteration: 1\n"
     ]
    },
    {
     "name": "stderr",
     "output_type": "stream",
     "text": [
      "21it [00:03,  5.46it/s]"
     ]
    },
    {
     "name": "stdout",
     "output_type": "stream",
     "text": [
      "--> DMFT Convergence: dG_l = 0.231936\n",
      "--> DMFT Iteration: 2\n",
      "--> DMFT Convergence: dG_l = 0.073281\n",
      "--> DMFT Iteration: 3\n",
      "--> DMFT Convergence: dG_l = 0.009949\n",
      "--> DMFT Iteration: 4\n",
      "--> DMFT Convergence: dG_l = 0.001162\n",
      "--> DMFT Converged: dG_l = 0.001162\n",
      "--> DMFT Iteration: 0\n",
      "--> DMFT Convergence: dG_l = 2.544973\n",
      "--> DMFT Iteration: 1\n",
      "--> DMFT Convergence: dG_l = 0.453562\n",
      "--> DMFT Iteration: 2\n"
     ]
    },
    {
     "name": "stderr",
     "output_type": "stream",
     "text": [
      "22it [00:03,  5.42it/s]"
     ]
    },
    {
     "name": "stdout",
     "output_type": "stream",
     "text": [
      "--> DMFT Convergence: dG_l = 0.091948\n",
      "--> DMFT Iteration: 3\n",
      "--> DMFT Convergence: dG_l = 0.019433\n",
      "--> DMFT Iteration: 4\n",
      "--> DMFT Convergence: dG_l = 0.002885\n",
      "--> DMFT Converged: dG_l = 0.002885\n",
      "--> DMFT Iteration: 0\n",
      "--> DMFT Convergence: dG_l = 3.598440\n",
      "--> DMFT Iteration: 1\n",
      "--> DMFT Convergence: dG_l = 0.295127\n",
      "--> DMFT Iteration: 2\n",
      "--> DMFT Convergence: dG_l = 0.041135\n",
      "--> DMFT Iteration: 3\n",
      "--> DMFT Convergence: dG_l = 0.006543\n",
      "--> DMFT Iteration: 4\n"
     ]
    },
    {
     "name": "stderr",
     "output_type": "stream",
     "text": [
      "24it [00:04,  5.72it/s]"
     ]
    },
    {
     "name": "stdout",
     "output_type": "stream",
     "text": [
      "--> DMFT Convergence: dG_l = 0.001461\n",
      "--> DMFT Converged: dG_l = 0.001461\n",
      "--> DMFT Iteration: 0\n",
      "--> DMFT Convergence: dG_l = 3.378348\n",
      "--> DMFT Iteration: 1\n",
      "--> DMFT Convergence: dG_l = 0.225414\n",
      "--> DMFT Iteration: 2\n",
      "--> DMFT Convergence: dG_l = 0.040648\n",
      "--> DMFT Iteration: 3\n",
      "--> DMFT Convergence: dG_l = 0.003762\n",
      "--> DMFT Converged: dG_l = 0.003762\n",
      "--> DMFT Iteration: 0\n",
      "--> DMFT Convergence: dG_l = 1.783562\n",
      "--> DMFT Iteration: 1\n"
     ]
    },
    {
     "name": "stderr",
     "output_type": "stream",
     "text": [
      "WARNING: Direct Fourier cannot deduce the high-frequency moments of G(tau) due to noise or a coarse tau-grid. \t  Please specify the high-frequency moments for higher accuracy.\n",
      "26it [00:04,  6.04it/s]"
     ]
    },
    {
     "name": "stdout",
     "output_type": "stream",
     "text": [
      "--> DMFT Convergence: dG_l = 0.038650\n",
      "--> DMFT Iteration: 2\n",
      "--> DMFT Convergence: dG_l = 0.003317\n",
      "--> DMFT Converged: dG_l = 0.003317\n",
      "--> DMFT Iteration: 0\n",
      "--> DMFT Convergence: dG_l = 2.511495\n",
      "--> DMFT Iteration: 1\n",
      "--> DMFT Convergence: dG_l = 0.514521\n",
      "--> DMFT Iteration: 2\n",
      "--> DMFT Convergence: dG_l = 0.022389\n",
      "--> DMFT Iteration: 3\n",
      "--> DMFT Convergence: dG_l = 0.005284\n",
      "--> DMFT Iteration: 4\n",
      "--> DMFT Convergence: dG_l = 0.001090\n",
      "--> DMFT Converged: dG_l = 0.001090\n",
      "--> DMFT Iteration: 0\n"
     ]
    },
    {
     "name": "stderr",
     "output_type": "stream",
     "text": [
      "27it [00:04,  5.73it/s]"
     ]
    },
    {
     "name": "stdout",
     "output_type": "stream",
     "text": [
      "--> DMFT Convergence: dG_l = 2.943403\n",
      "--> DMFT Iteration: 1\n",
      "--> DMFT Convergence: dG_l = 0.229572\n",
      "--> DMFT Iteration: 2\n",
      "--> DMFT Convergence: dG_l = 0.053840\n",
      "--> DMFT Iteration: 3\n",
      "--> DMFT Convergence: dG_l = 0.006193\n",
      "--> DMFT Iteration: 4\n",
      "--> DMFT Convergence: dG_l = 0.000703\n",
      "--> DMFT Converged: dG_l = 0.000703\n",
      "--> DMFT Iteration: 0\n",
      "--> DMFT Convergence: dG_l = 2.758603\n",
      "--> DMFT Iteration: 1\n",
      "--> DMFT Convergence: dG_l = 0.318991\n",
      "--> DMFT Iteration: 2\n"
     ]
    },
    {
     "name": "stderr",
     "output_type": "stream",
     "text": [
      "28it [00:04,  5.55it/s]"
     ]
    },
    {
     "name": "stdout",
     "output_type": "stream",
     "text": [
      "--> DMFT Convergence: dG_l = 0.060577\n",
      "--> DMFT Iteration: 3\n",
      "--> DMFT Convergence: dG_l = 0.010487\n",
      "--> DMFT Iteration: 4\n",
      "--> DMFT Convergence: dG_l = 0.001537\n",
      "--> DMFT Converged: dG_l = 0.001537\n",
      "--> DMFT Iteration: 0\n",
      "--> DMFT Convergence: dG_l = 1.767000\n",
      "--> DMFT Iteration: 1\n",
      "--> DMFT Convergence: dG_l = 0.093416\n",
      "--> DMFT Iteration: 2\n",
      "--> DMFT Convergence: dG_l = 0.007303\n",
      "--> DMFT Iteration: 3\n"
     ]
    },
    {
     "name": "stderr",
     "output_type": "stream",
     "text": [
      "30it [00:04,  6.48it/s]"
     ]
    },
    {
     "name": "stdout",
     "output_type": "stream",
     "text": [
      "--> DMFT Convergence: dG_l = 0.000761\n",
      "--> DMFT Converged: dG_l = 0.000761\n",
      "--> DMFT Iteration: 0\n",
      "--> DMFT Convergence: dG_l = 1.748778\n",
      "--> DMFT Iteration: 1\n",
      "--> DMFT Convergence: dG_l = 0.049236\n",
      "--> DMFT Iteration: 2\n",
      "--> DMFT Convergence: dG_l = 0.003145\n",
      "--> DMFT Converged: dG_l = 0.003145\n",
      "--> DMFT Iteration: 0\n",
      "--> DMFT Convergence: dG_l = 1.634679\n",
      "--> DMFT Iteration: 1\n",
      "--> DMFT Convergence: dG_l = 0.072248\n",
      "--> DMFT Iteration: 2\n"
     ]
    },
    {
     "name": "stderr",
     "output_type": "stream",
     "text": [
      "32it [00:05,  6.54it/s]"
     ]
    },
    {
     "name": "stdout",
     "output_type": "stream",
     "text": [
      "--> DMFT Convergence: dG_l = 0.005291\n",
      "--> DMFT Iteration: 3\n",
      "--> DMFT Convergence: dG_l = 0.000440\n",
      "--> DMFT Converged: dG_l = 0.000440\n",
      "--> DMFT Iteration: 0\n",
      "--> DMFT Convergence: dG_l = 3.221818\n",
      "--> DMFT Iteration: 1\n",
      "--> DMFT Convergence: dG_l = 0.166383\n",
      "--> DMFT Iteration: 2\n",
      "--> DMFT Convergence: dG_l = 0.022591\n",
      "--> DMFT Iteration: 3\n",
      "--> DMFT Convergence: dG_l = 0.003097\n",
      "--> DMFT Converged: dG_l = 0.003097\n",
      "--> DMFT Iteration: 0\n",
      "--> DMFT Convergence: dG_l = 2.669082\n",
      "--> DMFT Iteration: 1\n"
     ]
    },
    {
     "name": "stderr",
     "output_type": "stream",
     "text": [
      "33it [00:05,  6.54it/s]"
     ]
    },
    {
     "name": "stdout",
     "output_type": "stream",
     "text": [
      "--> DMFT Convergence: dG_l = 0.176066\n",
      "--> DMFT Iteration: 2\n",
      "--> DMFT Convergence: dG_l = 0.014642\n",
      "--> DMFT Iteration: 3\n",
      "--> DMFT Convergence: dG_l = 0.002793\n",
      "--> DMFT Converged: dG_l = 0.002793\n",
      "--> DMFT Iteration: 0\n",
      "--> DMFT Convergence: dG_l = 2.636942\n",
      "--> DMFT Iteration: 1\n",
      "--> DMFT Convergence: dG_l = 0.362771\n",
      "--> DMFT Iteration: 2\n"
     ]
    },
    {
     "name": "stderr",
     "output_type": "stream",
     "text": [
      "34it [00:05,  6.30it/s]"
     ]
    },
    {
     "name": "stdout",
     "output_type": "stream",
     "text": [
      "--> DMFT Convergence: dG_l = 0.014384\n",
      "--> DMFT Iteration: 3\n",
      "--> DMFT Convergence: dG_l = 0.001082\n",
      "--> DMFT Converged: dG_l = 0.001082\n",
      "--> DMFT Iteration: 0\n",
      "--> DMFT Convergence: dG_l = 3.621054\n",
      "--> DMFT Iteration: 1\n",
      "--> DMFT Convergence: dG_l = 0.248297\n",
      "--> DMFT Iteration: 2\n",
      "--> DMFT Convergence: dG_l = 0.084320\n",
      "--> DMFT Iteration: 3\n",
      "--> DMFT Convergence: dG_l = 0.008481\n",
      "--> DMFT Iteration: 4\n"
     ]
    },
    {
     "name": "stderr",
     "output_type": "stream",
     "text": [
      "36it [00:05,  5.59it/s]"
     ]
    },
    {
     "name": "stdout",
     "output_type": "stream",
     "text": [
      "--> DMFT Convergence: dG_l = 0.000715\n",
      "--> DMFT Converged: dG_l = 0.000715\n",
      "--> DMFT Iteration: 0\n",
      "--> DMFT Convergence: dG_l = 2.326305\n",
      "--> DMFT Iteration: 1\n",
      "--> DMFT Convergence: dG_l = 0.335691\n",
      "--> DMFT Iteration: 2\n",
      "--> DMFT Convergence: dG_l = 0.049727\n",
      "--> DMFT Iteration: 3\n",
      "--> DMFT Convergence: dG_l = 0.013135\n",
      "--> DMFT Iteration: 4\n",
      "--> DMFT Convergence: dG_l = 0.003183\n",
      "--> DMFT Converged: dG_l = 0.003183\n",
      "--> DMFT Iteration: 0\n"
     ]
    },
    {
     "name": "stderr",
     "output_type": "stream",
     "text": [
      "37it [00:06,  5.40it/s]"
     ]
    },
    {
     "name": "stdout",
     "output_type": "stream",
     "text": [
      "--> DMFT Convergence: dG_l = 2.241239\n",
      "--> DMFT Iteration: 1\n",
      "--> DMFT Convergence: dG_l = 0.230633\n",
      "--> DMFT Iteration: 2\n",
      "--> DMFT Convergence: dG_l = 0.032442\n",
      "--> DMFT Iteration: 3\n",
      "--> DMFT Convergence: dG_l = 0.008028\n",
      "--> DMFT Iteration: 4\n",
      "--> DMFT Convergence: dG_l = 0.002027\n",
      "--> DMFT Converged: dG_l = 0.002027\n",
      "--> DMFT Iteration: 0\n",
      "--> DMFT Convergence: dG_l = 1.744082\n",
      "--> DMFT Iteration: 1\n",
      "--> DMFT Convergence: dG_l = 0.102239\n",
      "--> DMFT Iteration: 2\n"
     ]
    },
    {
     "name": "stderr",
     "output_type": "stream",
     "text": [
      "38it [00:06,  5.63it/s]"
     ]
    },
    {
     "name": "stdout",
     "output_type": "stream",
     "text": [
      "--> DMFT Convergence: dG_l = 0.018382\n",
      "--> DMFT Iteration: 3\n",
      "--> DMFT Convergence: dG_l = 0.001666\n",
      "--> DMFT Converged: dG_l = 0.001666\n",
      "--> DMFT Iteration: 0\n",
      "--> DMFT Convergence: dG_l = 3.804730\n",
      "--> DMFT Iteration: 1\n",
      "--> DMFT Convergence: dG_l = 0.264145\n",
      "--> DMFT Iteration: 2\n",
      "--> DMFT Convergence: dG_l = 0.049275\n",
      "--> DMFT Iteration: 3\n"
     ]
    },
    {
     "name": "stderr",
     "output_type": "stream",
     "text": [
      "39it [00:06,  5.35it/s]WARNING: Direct Fourier cannot deduce the high-frequency moments of G(tau) due to noise or a coarse tau-grid. \t  Please specify the high-frequency moments for higher accuracy.\n",
      "WARNING: Direct Fourier cannot deduce the high-frequency moments of G(tau) due to noise or a coarse tau-grid. \t  Please specify the high-frequency moments for higher accuracy.\n",
      "WARNING: Direct Fourier cannot deduce the high-frequency moments of G(tau) due to noise or a coarse tau-grid. \t  Please specify the high-frequency moments for higher accuracy.\n",
      "WARNING: Direct Fourier cannot deduce the high-frequency moments of G(tau) due to noise or a coarse tau-grid. \t  Please specify the high-frequency moments for higher accuracy.\n",
      "40it [00:06,  5.61it/s]"
     ]
    },
    {
     "name": "stdout",
     "output_type": "stream",
     "text": [
      "--> DMFT Convergence: dG_l = 0.007246\n",
      "--> DMFT Iteration: 4\n",
      "--> DMFT Convergence: dG_l = 0.000684\n",
      "--> DMFT Converged: dG_l = 0.000684\n",
      "--> DMFT Iteration: 0\n",
      "--> DMFT Convergence: dG_l = 1.798970\n",
      "--> DMFT Iteration: 1\n",
      "--> DMFT Convergence: dG_l = 0.058822\n",
      "--> DMFT Iteration: 2\n",
      "--> DMFT Convergence: dG_l = 0.005346\n",
      "--> DMFT Iteration: 3\n",
      "--> DMFT Convergence: dG_l = 0.000396\n",
      "--> DMFT Converged: dG_l = 0.000396\n",
      "--> DMFT Iteration: 0\n",
      "--> DMFT Convergence: dG_l = 3.393801\n",
      "--> DMFT Iteration: 1\n",
      "--> DMFT Convergence: dG_l = 0.409564\n",
      "--> DMFT Iteration: 2\n",
      "--> DMFT Convergence: dG_l = 0.135650\n",
      "--> DMFT Iteration: 3\n",
      "--> DMFT Convergence: dG_l = 0.027852\n",
      "--> DMFT Iteration: 4\n",
      "--> DMFT Convergence: dG_l = 0.009601\n",
      "--> DMFT Iteration: 5\n"
     ]
    },
    {
     "name": "stderr",
     "output_type": "stream",
     "text": [
      "42it [00:07,  5.17it/s]"
     ]
    },
    {
     "name": "stdout",
     "output_type": "stream",
     "text": [
      "--> DMFT Convergence: dG_l = 0.001902\n",
      "--> DMFT Converged: dG_l = 0.001902\n",
      "--> DMFT Iteration: 0\n",
      "--> DMFT Convergence: dG_l = 2.889266\n",
      "--> DMFT Iteration: 1\n",
      "--> DMFT Convergence: dG_l = 0.292618\n",
      "--> DMFT Iteration: 2\n",
      "--> DMFT Convergence: dG_l = 0.108701\n",
      "--> DMFT Iteration: 3\n",
      "--> DMFT Convergence: dG_l = 0.019537\n",
      "--> DMFT Iteration: 4\n",
      "--> DMFT Convergence: dG_l = 0.004025\n",
      "--> DMFT Converged: dG_l = 0.004025\n",
      "--> DMFT Iteration: 0\n"
     ]
    },
    {
     "name": "stderr",
     "output_type": "stream",
     "text": [
      "43it [00:07,  5.39it/s]"
     ]
    },
    {
     "name": "stdout",
     "output_type": "stream",
     "text": [
      "--> DMFT Convergence: dG_l = 2.359797\n",
      "--> DMFT Iteration: 1\n",
      "--> DMFT Convergence: dG_l = 0.238581\n",
      "--> DMFT Iteration: 2\n",
      "--> DMFT Convergence: dG_l = 0.026045\n",
      "--> DMFT Iteration: 3\n",
      "--> DMFT Convergence: dG_l = 0.003738\n",
      "--> DMFT Converged: dG_l = 0.003738\n",
      "--> DMFT Iteration: 0\n",
      "--> DMFT Convergence: dG_l = 2.279053\n",
      "--> DMFT Iteration: 1\n",
      "--> DMFT Convergence: dG_l = 0.227965\n",
      "--> DMFT Iteration: 2\n",
      "--> DMFT Convergence: dG_l = 0.018244\n",
      "--> DMFT Iteration: 3\n"
     ]
    },
    {
     "name": "stderr",
     "output_type": "stream",
     "text": [
      "45it [00:07,  5.67it/s]"
     ]
    },
    {
     "name": "stdout",
     "output_type": "stream",
     "text": [
      "--> DMFT Convergence: dG_l = 0.002045\n",
      "--> DMFT Converged: dG_l = 0.002045\n",
      "--> DMFT Iteration: 0\n",
      "--> DMFT Convergence: dG_l = 1.829580\n",
      "--> DMFT Iteration: 1\n",
      "--> DMFT Convergence: dG_l = 0.302753\n",
      "--> DMFT Iteration: 2\n",
      "--> DMFT Convergence: dG_l = 0.015030\n",
      "--> DMFT Iteration: 3\n",
      "--> DMFT Convergence: dG_l = 0.000901\n",
      "--> DMFT Converged: dG_l = 0.000901\n",
      "--> DMFT Iteration: 0\n"
     ]
    },
    {
     "name": "stderr",
     "output_type": "stream",
     "text": [
      "46it [00:07,  5.43it/s]"
     ]
    },
    {
     "name": "stdout",
     "output_type": "stream",
     "text": [
      "--> DMFT Convergence: dG_l = 3.405688\n",
      "--> DMFT Iteration: 1\n",
      "--> DMFT Convergence: dG_l = 0.238037\n",
      "--> DMFT Iteration: 2\n",
      "--> DMFT Convergence: dG_l = 0.075495\n",
      "--> DMFT Iteration: 3\n",
      "--> DMFT Convergence: dG_l = 0.012354\n",
      "--> DMFT Iteration: 4\n",
      "--> DMFT Convergence: dG_l = 0.001279\n",
      "--> DMFT Converged: dG_l = 0.001279\n",
      "--> DMFT Iteration: 0\n",
      "--> DMFT Convergence: dG_l = 3.987248\n",
      "--> DMFT Iteration: 1\n"
     ]
    },
    {
     "name": "stderr",
     "output_type": "stream",
     "text": [
      "47it [00:08,  5.31it/s]"
     ]
    },
    {
     "name": "stdout",
     "output_type": "stream",
     "text": [
      "--> DMFT Convergence: dG_l = 0.437311\n",
      "--> DMFT Iteration: 2\n",
      "--> DMFT Convergence: dG_l = 0.122882\n",
      "--> DMFT Iteration: 3\n",
      "--> DMFT Convergence: dG_l = 0.020761\n",
      "--> DMFT Iteration: 4\n",
      "--> DMFT Convergence: dG_l = 0.003179\n",
      "--> DMFT Converged: dG_l = 0.003179\n",
      "--> DMFT Iteration: 0\n",
      "--> DMFT Convergence: dG_l = 1.819313\n",
      "--> DMFT Iteration: 1\n",
      "--> DMFT Convergence: dG_l = 0.468475\n",
      "--> DMFT Iteration: 2\n"
     ]
    },
    {
     "name": "stderr",
     "output_type": "stream",
     "text": [
      "48it [00:08,  5.27it/s]"
     ]
    },
    {
     "name": "stdout",
     "output_type": "stream",
     "text": [
      "--> DMFT Convergence: dG_l = 0.098508\n",
      "--> DMFT Iteration: 3\n",
      "--> DMFT Convergence: dG_l = 0.023207\n",
      "--> DMFT Iteration: 4\n",
      "--> DMFT Convergence: dG_l = 0.003801\n",
      "--> DMFT Converged: dG_l = 0.003801\n",
      "--> DMFT Iteration: 0\n",
      "--> DMFT Convergence: dG_l = 2.486049\n",
      "--> DMFT Iteration: 1\n",
      "--> DMFT Convergence: dG_l = 0.197724\n",
      "--> DMFT Iteration: 2\n",
      "--> DMFT Convergence: dG_l = 0.036505\n",
      "--> DMFT Iteration: 3\n",
      "--> DMFT Convergence: dG_l = 0.007447\n",
      "--> DMFT Iteration: 4\n"
     ]
    },
    {
     "name": "stderr",
     "output_type": "stream",
     "text": [
      "50it [00:08,  5.85it/s]"
     ]
    },
    {
     "name": "stdout",
     "output_type": "stream",
     "text": [
      "--> DMFT Convergence: dG_l = 0.001672\n",
      "--> DMFT Converged: dG_l = 0.001672\n",
      "--> DMFT Iteration: 0\n",
      "--> DMFT Convergence: dG_l = 1.815371\n",
      "--> DMFT Iteration: 1\n",
      "--> DMFT Convergence: dG_l = 0.056656\n",
      "--> DMFT Iteration: 2\n",
      "--> DMFT Convergence: dG_l = 0.001382\n",
      "--> DMFT Converged: dG_l = 0.001382\n"
     ]
    },
    {
     "name": "stderr",
     "output_type": "stream",
     "text": [
      "\n",
      "1it [00:00,  5.32it/s]"
     ]
    },
    {
     "name": "stdout",
     "output_type": "stream",
     "text": [
      "--> DMFT Iteration: 0\n",
      "--> DMFT Convergence: dG_l = 3.263166\n",
      "--> DMFT Iteration: 1\n",
      "--> DMFT Convergence: dG_l = 0.268206\n",
      "--> DMFT Iteration: 2\n",
      "--> DMFT Convergence: dG_l = 0.040943\n",
      "--> DMFT Iteration: 3\n",
      "--> DMFT Convergence: dG_l = 0.006312\n",
      "--> DMFT Iteration: 4\n",
      "--> DMFT Convergence: dG_l = 0.000865\n",
      "--> DMFT Converged: dG_l = 0.000865\n",
      "--> DMFT Iteration: 0\n",
      "--> DMFT Convergence: dG_l = 2.169302\n",
      "--> DMFT Iteration: 1\n"
     ]
    },
    {
     "name": "stderr",
     "output_type": "stream",
     "text": [
      "2it [00:00,  6.00it/s]"
     ]
    },
    {
     "name": "stdout",
     "output_type": "stream",
     "text": [
      "--> DMFT Convergence: dG_l = 0.153221\n",
      "--> DMFT Iteration: 2\n",
      "--> DMFT Convergence: dG_l = 0.011690\n",
      "--> DMFT Iteration: 3\n",
      "--> DMFT Convergence: dG_l = 0.001620\n",
      "--> DMFT Converged: dG_l = 0.001620\n",
      "--> DMFT Iteration: 0\n",
      "--> DMFT Convergence: dG_l = 2.949013\n",
      "--> DMFT Iteration: 1\n",
      "--> DMFT Convergence: dG_l = 0.484102\n",
      "--> DMFT Iteration: 2\n",
      "--> DMFT Convergence: dG_l = 0.130807\n",
      "--> DMFT Iteration: 3\n",
      "--> DMFT Convergence: dG_l = 0.018492\n",
      "--> DMFT Iteration: 4\n"
     ]
    },
    {
     "name": "stderr",
     "output_type": "stream",
     "text": [
      "3it [00:00,  5.67it/s]"
     ]
    },
    {
     "name": "stdout",
     "output_type": "stream",
     "text": [
      "--> DMFT Convergence: dG_l = 0.003204\n",
      "--> DMFT Converged: dG_l = 0.003204\n",
      "--> DMFT Iteration: 0\n",
      "--> DMFT Convergence: dG_l = 2.185853\n",
      "--> DMFT Iteration: 1\n",
      "--> DMFT Convergence: dG_l = 0.502240\n",
      "--> DMFT Iteration: 2\n",
      "--> DMFT Convergence: dG_l = 0.133021\n",
      "--> DMFT Iteration: 3\n",
      "--> DMFT Convergence: dG_l = 0.030332\n",
      "--> DMFT Iteration: 4\n",
      "--> DMFT Convergence: dG_l = 0.008248\n",
      "--> DMFT Iteration: 5\n"
     ]
    },
    {
     "name": "stderr",
     "output_type": "stream",
     "text": [
      "5it [00:00,  5.17it/s]"
     ]
    },
    {
     "name": "stdout",
     "output_type": "stream",
     "text": [
      "--> DMFT Convergence: dG_l = 0.002690\n",
      "--> DMFT Converged: dG_l = 0.002690\n",
      "--> DMFT Iteration: 0\n",
      "--> DMFT Convergence: dG_l = 2.845407\n",
      "--> DMFT Iteration: 1\n",
      "--> DMFT Convergence: dG_l = 0.182442\n",
      "--> DMFT Iteration: 2\n",
      "--> DMFT Convergence: dG_l = 0.070024\n",
      "--> DMFT Iteration: 3\n",
      "--> DMFT Convergence: dG_l = 0.010766\n",
      "--> DMFT Iteration: 4\n",
      "--> DMFT Convergence: dG_l = 0.001745\n",
      "--> DMFT Converged: dG_l = 0.001745\n",
      "--> DMFT Iteration: 0\n"
     ]
    },
    {
     "name": "stderr",
     "output_type": "stream",
     "text": [
      "6it [00:01,  5.77it/s]"
     ]
    },
    {
     "name": "stdout",
     "output_type": "stream",
     "text": [
      "--> DMFT Convergence: dG_l = 1.818979\n",
      "--> DMFT Iteration: 1\n",
      "--> DMFT Convergence: dG_l = 0.052698\n",
      "--> DMFT Iteration: 2\n",
      "--> DMFT Convergence: dG_l = 0.004199\n",
      "--> DMFT Converged: dG_l = 0.004199\n",
      "--> DMFT Iteration: 0\n",
      "--> DMFT Convergence: dG_l = 2.837577\n",
      "--> DMFT Iteration: 1\n",
      "--> DMFT Convergence: dG_l = 0.207694\n",
      "--> DMFT Iteration: 2\n",
      "--> DMFT Convergence: dG_l = 0.025423\n",
      "--> DMFT Iteration: 3\n"
     ]
    },
    {
     "name": "stderr",
     "output_type": "stream",
     "text": [
      "8it [00:01,  5.69it/s]"
     ]
    },
    {
     "name": "stdout",
     "output_type": "stream",
     "text": [
      "--> DMFT Convergence: dG_l = 0.004172\n",
      "--> DMFT Converged: dG_l = 0.004172\n",
      "--> DMFT Iteration: 0\n",
      "--> DMFT Convergence: dG_l = 3.083398\n",
      "--> DMFT Iteration: 1\n",
      "--> DMFT Convergence: dG_l = 0.418522\n",
      "--> DMFT Iteration: 2\n",
      "--> DMFT Convergence: dG_l = 0.152505\n",
      "--> DMFT Iteration: 3\n",
      "--> DMFT Convergence: dG_l = 0.026296\n",
      "--> DMFT Iteration: 4\n",
      "--> DMFT Convergence: dG_l = 0.004229\n",
      "--> DMFT Converged: dG_l = 0.004229\n",
      "--> DMFT Iteration: 0\n"
     ]
    },
    {
     "name": "stderr",
     "output_type": "stream",
     "text": [
      "9it [00:01,  5.93it/s]"
     ]
    },
    {
     "name": "stdout",
     "output_type": "stream",
     "text": [
      "--> DMFT Convergence: dG_l = 2.079546\n",
      "--> DMFT Iteration: 1\n",
      "--> DMFT Convergence: dG_l = 0.171651\n",
      "--> DMFT Iteration: 2\n",
      "--> DMFT Convergence: dG_l = 0.016834\n",
      "--> DMFT Iteration: 3\n",
      "--> DMFT Convergence: dG_l = 0.001593\n",
      "--> DMFT Converged: dG_l = 0.001593\n",
      "--> DMFT Iteration: 0\n",
      "--> DMFT Convergence: dG_l = 2.104761\n",
      "--> DMFT Iteration: 1\n",
      "--> DMFT Convergence: dG_l = 0.171143\n",
      "--> DMFT Iteration: 2\n"
     ]
    },
    {
     "name": "stderr",
     "output_type": "stream",
     "text": [
      "11it [00:01,  5.83it/s]"
     ]
    },
    {
     "name": "stdout",
     "output_type": "stream",
     "text": [
      "--> DMFT Convergence: dG_l = 0.015282\n",
      "--> DMFT Iteration: 3\n",
      "--> DMFT Convergence: dG_l = 0.002426\n",
      "--> DMFT Converged: dG_l = 0.002426\n",
      "--> DMFT Iteration: 0\n",
      "--> DMFT Convergence: dG_l = 3.223871\n",
      "--> DMFT Iteration: 1\n",
      "--> DMFT Convergence: dG_l = 0.328624\n",
      "--> DMFT Iteration: 2\n",
      "--> DMFT Convergence: dG_l = 0.074225\n",
      "--> DMFT Iteration: 3\n",
      "--> DMFT Convergence: dG_l = 0.010747\n",
      "--> DMFT Iteration: 4\n",
      "--> DMFT Convergence: dG_l = 0.003766\n",
      "--> DMFT Converged: dG_l = 0.003766\n",
      "--> DMFT Iteration: 0\n"
     ]
    },
    {
     "name": "stderr",
     "output_type": "stream",
     "text": [
      "12it [00:02,  5.63it/s]"
     ]
    },
    {
     "name": "stdout",
     "output_type": "stream",
     "text": [
      "--> DMFT Convergence: dG_l = 1.750868\n",
      "--> DMFT Iteration: 1\n",
      "--> DMFT Convergence: dG_l = 0.207141\n",
      "--> DMFT Iteration: 2\n",
      "--> DMFT Convergence: dG_l = 0.033579\n",
      "--> DMFT Iteration: 3\n",
      "--> DMFT Convergence: dG_l = 0.008933\n",
      "--> DMFT Iteration: 4\n",
      "--> DMFT Convergence: dG_l = 0.001577\n",
      "--> DMFT Converged: dG_l = 0.001577\n",
      "--> DMFT Iteration: 0\n",
      "--> DMFT Convergence: dG_l = 1.285030\n",
      "--> DMFT Iteration: 1\n",
      "--> DMFT Convergence: dG_l = 0.095620\n",
      "--> DMFT Iteration: 2\n"
     ]
    },
    {
     "name": "stderr",
     "output_type": "stream",
     "text": [
      "13it [00:02,  5.49it/s]"
     ]
    },
    {
     "name": "stdout",
     "output_type": "stream",
     "text": [
      "--> DMFT Convergence: dG_l = 0.029922\n",
      "--> DMFT Iteration: 3\n",
      "--> DMFT Convergence: dG_l = 0.005870\n",
      "--> DMFT Iteration: 4\n",
      "--> DMFT Convergence: dG_l = 0.000913\n",
      "--> DMFT Converged: dG_l = 0.000913\n",
      "--> DMFT Iteration: 0\n",
      "--> DMFT Convergence: dG_l = 3.354665\n",
      "--> DMFT Iteration: 1\n",
      "--> DMFT Convergence: dG_l = 0.285113\n",
      "--> DMFT Iteration: 2\n",
      "--> DMFT Convergence: dG_l = 0.088093\n",
      "--> DMFT Iteration: 3\n",
      "--> DMFT Convergence: dG_l = 0.012715\n",
      "--> DMFT Iteration: 4\n"
     ]
    },
    {
     "name": "stderr",
     "output_type": "stream",
     "text": [
      "15it [00:02,  5.77it/s]"
     ]
    },
    {
     "name": "stdout",
     "output_type": "stream",
     "text": [
      "--> DMFT Convergence: dG_l = 0.001545\n",
      "--> DMFT Converged: dG_l = 0.001545\n",
      "--> DMFT Iteration: 0\n",
      "--> DMFT Convergence: dG_l = 2.562027\n",
      "--> DMFT Iteration: 1\n",
      "--> DMFT Convergence: dG_l = 0.067610\n",
      "--> DMFT Iteration: 2\n",
      "--> DMFT Convergence: dG_l = 0.005384\n",
      "--> DMFT Iteration: 3\n",
      "--> DMFT Convergence: dG_l = 0.000235\n",
      "--> DMFT Converged: dG_l = 0.000235\n",
      "--> DMFT Iteration: 0\n",
      "--> DMFT Convergence: dG_l = 2.444227\n",
      "--> DMFT Iteration: 1\n"
     ]
    },
    {
     "name": "stderr",
     "output_type": "stream",
     "text": [
      "17it [00:02,  6.63it/s]"
     ]
    },
    {
     "name": "stdout",
     "output_type": "stream",
     "text": [
      "--> DMFT Convergence: dG_l = 0.194703\n",
      "--> DMFT Iteration: 2\n",
      "--> DMFT Convergence: dG_l = 0.023540\n",
      "--> DMFT Iteration: 3\n",
      "--> DMFT Convergence: dG_l = 0.004397\n",
      "--> DMFT Converged: dG_l = 0.004397\n",
      "--> DMFT Iteration: 0\n",
      "--> DMFT Convergence: dG_l = 1.624946\n",
      "--> DMFT Iteration: 1\n",
      "--> DMFT Convergence: dG_l = 0.065031\n",
      "--> DMFT Iteration: 2\n",
      "--> DMFT Convergence: dG_l = 0.004510\n",
      "--> DMFT Converged: dG_l = 0.004510\n",
      "--> DMFT Iteration: 0\n",
      "--> DMFT Convergence: dG_l = 2.704923\n",
      "--> DMFT Iteration: 1\n"
     ]
    },
    {
     "name": "stderr",
     "output_type": "stream",
     "text": [
      "18it [00:03,  6.18it/s]"
     ]
    },
    {
     "name": "stdout",
     "output_type": "stream",
     "text": [
      "--> DMFT Convergence: dG_l = 0.250291\n",
      "--> DMFT Iteration: 2\n",
      "--> DMFT Convergence: dG_l = 0.066444\n",
      "--> DMFT Iteration: 3\n",
      "--> DMFT Convergence: dG_l = 0.011925\n",
      "--> DMFT Iteration: 4\n",
      "--> DMFT Convergence: dG_l = 0.003453\n",
      "--> DMFT Converged: dG_l = 0.003453\n",
      "--> DMFT Iteration: 0\n",
      "--> DMFT Convergence: dG_l = 2.405038\n",
      "--> DMFT Iteration: 1\n",
      "--> DMFT Convergence: dG_l = 0.159615\n",
      "--> DMFT Iteration: 2\n",
      "--> DMFT Convergence: dG_l = 0.014668\n",
      "--> DMFT Iteration: 3\n"
     ]
    },
    {
     "name": "stderr",
     "output_type": "stream",
     "text": [
      "20it [00:03,  5.97it/s]"
     ]
    },
    {
     "name": "stdout",
     "output_type": "stream",
     "text": [
      "--> DMFT Convergence: dG_l = 0.000875\n",
      "--> DMFT Converged: dG_l = 0.000875\n",
      "--> DMFT Iteration: 0\n",
      "--> DMFT Convergence: dG_l = 1.997284\n",
      "--> DMFT Iteration: 1\n",
      "--> DMFT Convergence: dG_l = 0.165943\n",
      "--> DMFT Iteration: 2\n",
      "--> DMFT Convergence: dG_l = 0.042944\n",
      "--> DMFT Iteration: 3\n",
      "--> DMFT Convergence: dG_l = 0.009111\n",
      "--> DMFT Iteration: 4\n",
      "--> DMFT Convergence: dG_l = 0.003155\n",
      "--> DMFT Converged: dG_l = 0.003155\n",
      "--> DMFT Iteration: 0\n"
     ]
    },
    {
     "name": "stderr",
     "output_type": "stream",
     "text": [
      "21it [00:03,  6.19it/s]"
     ]
    },
    {
     "name": "stdout",
     "output_type": "stream",
     "text": [
      "--> DMFT Convergence: dG_l = 1.607034\n",
      "--> DMFT Iteration: 1\n",
      "--> DMFT Convergence: dG_l = 0.091672\n",
      "--> DMFT Iteration: 2\n",
      "--> DMFT Convergence: dG_l = 0.009156\n",
      "--> DMFT Iteration: 3\n",
      "--> DMFT Convergence: dG_l = 0.001896\n",
      "--> DMFT Converged: dG_l = 0.001896\n",
      "--> DMFT Iteration: 0\n",
      "--> DMFT Convergence: dG_l = 1.926185\n",
      "--> DMFT Iteration: 1\n",
      "--> DMFT Convergence: dG_l = 0.193027\n",
      "--> DMFT Iteration: 2\n",
      "--> DMFT Convergence: dG_l = 0.028693\n",
      "--> DMFT Iteration: 3\n"
     ]
    },
    {
     "name": "stderr",
     "output_type": "stream",
     "text": [
      "22it [00:03,  5.90it/s]"
     ]
    },
    {
     "name": "stdout",
     "output_type": "stream",
     "text": [
      "--> DMFT Convergence: dG_l = 0.006255\n",
      "--> DMFT Iteration: 4\n",
      "--> DMFT Convergence: dG_l = 0.000934\n",
      "--> DMFT Converged: dG_l = 0.000934\n",
      "--> DMFT Iteration: 0\n",
      "--> DMFT Convergence: dG_l = 2.421131\n",
      "--> DMFT Iteration: 1\n",
      "--> DMFT Convergence: dG_l = 0.345036\n",
      "--> DMFT Iteration: 2\n",
      "--> DMFT Convergence: dG_l = 0.094975\n",
      "--> DMFT Iteration: 3\n",
      "--> DMFT Convergence: dG_l = 0.023974\n",
      "--> DMFT Iteration: 4\n",
      "--> DMFT Convergence: dG_l = 0.005511\n",
      "--> DMFT Iteration: 5\n"
     ]
    },
    {
     "name": "stderr",
     "output_type": "stream",
     "text": [
      "24it [00:04,  5.32it/s]"
     ]
    },
    {
     "name": "stdout",
     "output_type": "stream",
     "text": [
      "--> DMFT Convergence: dG_l = 0.001042\n",
      "--> DMFT Converged: dG_l = 0.001042\n",
      "--> DMFT Iteration: 0\n",
      "--> DMFT Convergence: dG_l = 2.253617\n",
      "--> DMFT Iteration: 1\n",
      "--> DMFT Convergence: dG_l = 0.198041\n",
      "--> DMFT Iteration: 2\n",
      "--> DMFT Convergence: dG_l = 0.062508\n",
      "--> DMFT Iteration: 3\n",
      "--> DMFT Convergence: dG_l = 0.012140\n",
      "--> DMFT Iteration: 4\n",
      "--> DMFT Convergence: dG_l = 0.002389\n",
      "--> DMFT Converged: dG_l = 0.002389\n",
      "--> DMFT Iteration: 0\n"
     ]
    },
    {
     "name": "stderr",
     "output_type": "stream",
     "text": [
      "25it [00:04,  5.64it/s]"
     ]
    },
    {
     "name": "stdout",
     "output_type": "stream",
     "text": [
      "--> DMFT Convergence: dG_l = 4.279605\n",
      "--> DMFT Iteration: 1\n",
      "--> DMFT Convergence: dG_l = 0.218341\n",
      "--> DMFT Iteration: 2\n",
      "--> DMFT Convergence: dG_l = 0.017869\n",
      "--> DMFT Iteration: 3\n",
      "--> DMFT Convergence: dG_l = 0.002274\n",
      "--> DMFT Converged: dG_l = 0.002274\n",
      "--> DMFT Iteration: 0\n",
      "--> DMFT Convergence: dG_l = 3.581662\n",
      "--> DMFT Iteration: 1\n",
      "--> DMFT Convergence: dG_l = 0.494093\n",
      "--> DMFT Iteration: 2\n",
      "--> DMFT Convergence: dG_l = 0.154728\n",
      "--> DMFT Iteration: 3\n"
     ]
    },
    {
     "name": "stderr",
     "output_type": "stream",
     "text": [
      "26it [00:04,  5.20it/s]"
     ]
    },
    {
     "name": "stdout",
     "output_type": "stream",
     "text": [
      "--> DMFT Convergence: dG_l = 0.029721\n",
      "--> DMFT Iteration: 4\n",
      "--> DMFT Convergence: dG_l = 0.005076\n",
      "--> DMFT Iteration: 5\n",
      "--> DMFT Convergence: dG_l = 0.001730\n",
      "--> DMFT Converged: dG_l = 0.001730\n",
      "--> DMFT Iteration: 0\n",
      "--> DMFT Convergence: dG_l = 4.042935\n",
      "--> DMFT Iteration: 1\n",
      "--> DMFT Convergence: dG_l = 0.333425\n",
      "--> DMFT Iteration: 2\n",
      "--> DMFT Convergence: dG_l = 0.074079\n",
      "--> DMFT Iteration: 3\n",
      "--> DMFT Convergence: dG_l = 0.013924\n",
      "--> DMFT Iteration: 4\n"
     ]
    },
    {
     "name": "stderr",
     "output_type": "stream",
     "text": [
      "28it [00:04,  5.32it/s]"
     ]
    },
    {
     "name": "stdout",
     "output_type": "stream",
     "text": [
      "--> DMFT Convergence: dG_l = 0.002369\n",
      "--> DMFT Converged: dG_l = 0.002369\n",
      "--> DMFT Iteration: 0\n",
      "--> DMFT Convergence: dG_l = 2.574549\n",
      "--> DMFT Iteration: 1\n",
      "--> DMFT Convergence: dG_l = 0.299944\n",
      "--> DMFT Iteration: 2\n",
      "--> DMFT Convergence: dG_l = 0.047602\n",
      "--> DMFT Iteration: 3\n",
      "--> DMFT Convergence: dG_l = 0.010108\n",
      "--> DMFT Iteration: 4\n",
      "--> DMFT Convergence: dG_l = 0.003363\n",
      "--> DMFT Converged: dG_l = 0.003363\n",
      "--> DMFT Iteration: 0\n"
     ]
    },
    {
     "name": "stderr",
     "output_type": "stream",
     "text": [
      "29it [00:05,  6.07it/s]"
     ]
    },
    {
     "name": "stdout",
     "output_type": "stream",
     "text": [
      "--> DMFT Convergence: dG_l = 1.811356\n",
      "--> DMFT Iteration: 1\n",
      "--> DMFT Convergence: dG_l = 0.032802\n",
      "--> DMFT Iteration: 2\n",
      "--> DMFT Convergence: dG_l = 0.002194\n",
      "--> DMFT Converged: dG_l = 0.002194\n",
      "--> DMFT Iteration: 0\n",
      "--> DMFT Convergence: dG_l = 3.836270\n",
      "--> DMFT Iteration: 1\n",
      "--> DMFT Convergence: dG_l = 0.318161\n",
      "--> DMFT Iteration: 2\n",
      "--> DMFT Convergence: dG_l = 0.035462\n",
      "--> DMFT Iteration: 3\n",
      "--> DMFT Convergence: dG_l = 0.006292\n",
      "--> DMFT Iteration: 4\n"
     ]
    },
    {
     "name": "stderr",
     "output_type": "stream",
     "text": [
      "31it [00:05,  5.67it/s]"
     ]
    },
    {
     "name": "stdout",
     "output_type": "stream",
     "text": [
      "--> DMFT Convergence: dG_l = 0.000642\n",
      "--> DMFT Converged: dG_l = 0.000642\n",
      "--> DMFT Iteration: 0\n",
      "--> DMFT Convergence: dG_l = 2.261172\n",
      "--> DMFT Iteration: 1\n",
      "--> DMFT Convergence: dG_l = 0.378774\n",
      "--> DMFT Iteration: 2\n",
      "--> DMFT Convergence: dG_l = 0.051370\n",
      "--> DMFT Iteration: 3\n",
      "--> DMFT Convergence: dG_l = 0.012118\n",
      "--> DMFT Iteration: 4\n",
      "--> DMFT Convergence: dG_l = 0.002712\n",
      "--> DMFT Converged: dG_l = 0.002712\n",
      "--> DMFT Iteration: 0\n",
      "--> DMFT Convergence: dG_l = 1.559048\n",
      "--> DMFT Iteration: 1\n",
      "--> DMFT Convergence: dG_l = 0.453462\n",
      "--> DMFT Iteration: 2\n",
      "--> DMFT Convergence: dG_l = 0.152351\n",
      "--> DMFT Iteration: 3\n",
      "--> DMFT Convergence: dG_l = 0.200463\n",
      "--> DMFT Iteration: 4\n",
      "--> DMFT Convergence: dG_l = 0.847432\n",
      "--> DMFT Iteration: 5\n",
      "--> DMFT Convergence: dG_l = 0.522512\n",
      "--> DMFT Iteration: 6\n",
      "--> DMFT Convergence: dG_l = 0.349148\n",
      "--> DMFT Iteration: 7\n"
     ]
    },
    {
     "name": "stderr",
     "output_type": "stream",
     "text": [
      "32it [00:05,  4.24it/s]"
     ]
    },
    {
     "name": "stdout",
     "output_type": "stream",
     "text": [
      "--> DMFT Convergence: dG_l = 0.315048\n",
      "--> DMFT Iteration: 8\n",
      "--> DMFT Convergence: dG_l = 0.529530\n",
      "--> DMFT Iteration: 9\n",
      "--> DMFT Convergence: dG_l = 0.464862\n",
      "--> Warning: DMFT Not converged!\n",
      "--> DMFT Iteration: 0\n",
      "--> DMFT Convergence: dG_l = 2.283004\n",
      "--> DMFT Iteration: 1\n",
      "--> DMFT Convergence: dG_l = 0.157797\n",
      "--> DMFT Iteration: 2\n",
      "--> DMFT Convergence: dG_l = 0.061309\n",
      "--> DMFT Iteration: 3\n",
      "--> DMFT Convergence: dG_l = 0.008064\n",
      "--> DMFT Iteration: 4\n"
     ]
    },
    {
     "name": "stderr",
     "output_type": "stream",
     "text": [
      "34it [00:06,  5.24it/s]"
     ]
    },
    {
     "name": "stdout",
     "output_type": "stream",
     "text": [
      "--> DMFT Convergence: dG_l = 0.001185\n",
      "--> DMFT Converged: dG_l = 0.001185\n",
      "--> DMFT Iteration: 0\n",
      "--> DMFT Convergence: dG_l = 1.385390\n",
      "--> DMFT Iteration: 1\n",
      "--> DMFT Convergence: dG_l = 0.044303\n",
      "--> DMFT Iteration: 2\n",
      "--> DMFT Convergence: dG_l = 0.001593\n",
      "--> DMFT Converged: dG_l = 0.001593\n",
      "--> DMFT Iteration: 0\n",
      "--> DMFT Convergence: dG_l = 2.386954\n",
      "--> DMFT Iteration: 1\n",
      "--> DMFT Convergence: dG_l = 0.066408\n",
      "--> DMFT Iteration: 2\n"
     ]
    },
    {
     "name": "stderr",
     "output_type": "stream",
     "text": [
      "35it [00:06,  5.58it/s]"
     ]
    },
    {
     "name": "stdout",
     "output_type": "stream",
     "text": [
      "--> DMFT Convergence: dG_l = 0.006554\n",
      "--> DMFT Iteration: 3\n",
      "--> DMFT Convergence: dG_l = 0.000332\n",
      "--> DMFT Converged: dG_l = 0.000332\n",
      "--> DMFT Iteration: 0\n",
      "--> DMFT Convergence: dG_l = 3.846837\n",
      "--> DMFT Iteration: 1\n",
      "--> DMFT Convergence: dG_l = 0.230532\n",
      "--> DMFT Iteration: 2\n",
      "--> DMFT Convergence: dG_l = 0.037701\n",
      "--> DMFT Iteration: 3\n",
      "--> DMFT Convergence: dG_l = 0.005421\n",
      "--> DMFT Iteration: 4\n"
     ]
    },
    {
     "name": "stderr",
     "output_type": "stream",
     "text": [
      "37it [00:06,  5.75it/s]"
     ]
    },
    {
     "name": "stdout",
     "output_type": "stream",
     "text": [
      "--> DMFT Convergence: dG_l = 0.000732\n",
      "--> DMFT Converged: dG_l = 0.000732\n",
      "--> DMFT Iteration: 0\n",
      "--> DMFT Convergence: dG_l = 3.114770\n",
      "--> DMFT Iteration: 1\n",
      "--> DMFT Convergence: dG_l = 0.249705\n",
      "--> DMFT Iteration: 2\n",
      "--> DMFT Convergence: dG_l = 0.047104\n",
      "--> DMFT Iteration: 3\n",
      "--> DMFT Convergence: dG_l = 0.004692\n",
      "--> DMFT Converged: dG_l = 0.004692\n",
      "--> DMFT Iteration: 0\n",
      "--> DMFT Convergence: dG_l = 2.208579\n",
      "--> DMFT Iteration: 1\n"
     ]
    },
    {
     "name": "stderr",
     "output_type": "stream",
     "text": [
      "38it [00:06,  5.62it/s]"
     ]
    },
    {
     "name": "stdout",
     "output_type": "stream",
     "text": [
      "--> DMFT Convergence: dG_l = 0.327207\n",
      "--> DMFT Iteration: 2\n",
      "--> DMFT Convergence: dG_l = 0.054141\n",
      "--> DMFT Iteration: 3\n",
      "--> DMFT Convergence: dG_l = 0.013443\n",
      "--> DMFT Iteration: 4\n",
      "--> DMFT Convergence: dG_l = 0.003392\n",
      "--> DMFT Converged: dG_l = 0.003392\n",
      "--> DMFT Iteration: 0\n",
      "--> DMFT Convergence: dG_l = 2.355997\n",
      "--> DMFT Iteration: 1\n",
      "--> DMFT Convergence: dG_l = 0.223364\n",
      "--> DMFT Iteration: 2\n"
     ]
    },
    {
     "name": "stderr",
     "output_type": "stream",
     "text": [
      "40it [00:07,  5.70it/s]"
     ]
    },
    {
     "name": "stdout",
     "output_type": "stream",
     "text": [
      "--> DMFT Convergence: dG_l = 0.018463\n",
      "--> DMFT Iteration: 3\n",
      "--> DMFT Convergence: dG_l = 0.001903\n",
      "--> DMFT Converged: dG_l = 0.001903\n",
      "--> DMFT Iteration: 0\n",
      "--> DMFT Convergence: dG_l = 2.451571\n",
      "--> DMFT Iteration: 1\n",
      "--> DMFT Convergence: dG_l = 0.341435\n",
      "--> DMFT Iteration: 2\n",
      "--> DMFT Convergence: dG_l = 0.066679\n",
      "--> DMFT Iteration: 3\n",
      "--> DMFT Convergence: dG_l = 0.021329\n",
      "--> DMFT Iteration: 4\n",
      "--> DMFT Convergence: dG_l = 0.003505\n",
      "--> DMFT Converged: dG_l = 0.003505\n",
      "--> DMFT Iteration: 0\n"
     ]
    },
    {
     "name": "stderr",
     "output_type": "stream",
     "text": [
      "42it [00:07,  6.44it/s]"
     ]
    },
    {
     "name": "stdout",
     "output_type": "stream",
     "text": [
      "--> DMFT Convergence: dG_l = 2.327192\n",
      "--> DMFT Iteration: 1\n",
      "--> DMFT Convergence: dG_l = 0.051736\n",
      "--> DMFT Iteration: 2\n",
      "--> DMFT Convergence: dG_l = 0.003998\n",
      "--> DMFT Converged: dG_l = 0.003998\n",
      "--> DMFT Iteration: 0\n",
      "--> DMFT Convergence: dG_l = 2.017463\n",
      "--> DMFT Iteration: 1\n",
      "--> DMFT Convergence: dG_l = 0.061426\n",
      "--> DMFT Iteration: 2\n",
      "--> DMFT Convergence: dG_l = 0.007494\n",
      "--> DMFT Iteration: 3\n",
      "--> DMFT Convergence: dG_l = 0.001621\n",
      "--> DMFT Converged: dG_l = 0.001621\n",
      "--> DMFT Iteration: 0\n"
     ]
    },
    {
     "name": "stderr",
     "output_type": "stream",
     "text": [
      "43it [00:07,  6.05it/s]"
     ]
    },
    {
     "name": "stdout",
     "output_type": "stream",
     "text": [
      "--> DMFT Convergence: dG_l = 2.418508\n",
      "--> DMFT Iteration: 1\n",
      "--> DMFT Convergence: dG_l = 0.472355\n",
      "--> DMFT Iteration: 2\n",
      "--> DMFT Convergence: dG_l = 0.057369\n",
      "--> DMFT Iteration: 3\n",
      "--> DMFT Convergence: dG_l = 0.008101\n",
      "--> DMFT Iteration: 4\n",
      "--> DMFT Convergence: dG_l = 0.000845\n",
      "--> DMFT Converged: dG_l = 0.000845\n",
      "--> DMFT Iteration: 0\n",
      "--> DMFT Convergence: dG_l = 2.482475\n",
      "--> DMFT Iteration: 1\n",
      "--> DMFT Convergence: dG_l = 0.101959\n",
      "--> DMFT Iteration: 2\n"
     ]
    },
    {
     "name": "stderr",
     "output_type": "stream",
     "text": [
      "45it [00:07,  6.34it/s]"
     ]
    },
    {
     "name": "stdout",
     "output_type": "stream",
     "text": [
      "--> DMFT Convergence: dG_l = 0.010322\n",
      "--> DMFT Iteration: 3\n",
      "--> DMFT Convergence: dG_l = 0.001733\n",
      "--> DMFT Converged: dG_l = 0.001733\n",
      "--> DMFT Iteration: 0\n",
      "--> DMFT Convergence: dG_l = 3.804358\n",
      "--> DMFT Iteration: 1\n",
      "--> DMFT Convergence: dG_l = 0.177850\n",
      "--> DMFT Iteration: 2\n",
      "--> DMFT Convergence: dG_l = 0.044277\n",
      "--> DMFT Iteration: 3\n",
      "--> DMFT Convergence: dG_l = 0.003602\n",
      "--> DMFT Converged: dG_l = 0.003602\n",
      "--> DMFT Iteration: 0\n",
      "--> DMFT Convergence: dG_l = 1.623319\n",
      "--> DMFT Iteration: 1\n"
     ]
    },
    {
     "name": "stderr",
     "output_type": "stream",
     "text": [
      "47it [00:08,  6.85it/s]"
     ]
    },
    {
     "name": "stdout",
     "output_type": "stream",
     "text": [
      "--> DMFT Convergence: dG_l = 0.061430\n",
      "--> DMFT Iteration: 2\n",
      "--> DMFT Convergence: dG_l = 0.004902\n",
      "--> DMFT Converged: dG_l = 0.004902\n",
      "--> DMFT Iteration: 0\n",
      "--> DMFT Convergence: dG_l = 1.861669\n",
      "--> DMFT Iteration: 1\n",
      "--> DMFT Convergence: dG_l = 0.126140\n",
      "--> DMFT Iteration: 2\n",
      "--> DMFT Convergence: dG_l = 0.012052\n",
      "--> DMFT Iteration: 3\n",
      "--> DMFT Convergence: dG_l = 0.000966\n",
      "--> DMFT Converged: dG_l = 0.000966\n",
      "--> DMFT Iteration: 0\n"
     ]
    },
    {
     "name": "stderr",
     "output_type": "stream",
     "text": [
      "48it [00:08,  6.67it/s]"
     ]
    },
    {
     "name": "stdout",
     "output_type": "stream",
     "text": [
      "--> DMFT Convergence: dG_l = 2.636972\n",
      "--> DMFT Iteration: 1\n",
      "--> DMFT Convergence: dG_l = 0.373716\n",
      "--> DMFT Iteration: 2\n",
      "--> DMFT Convergence: dG_l = 0.015172\n",
      "--> DMFT Iteration: 3\n",
      "--> DMFT Convergence: dG_l = 0.001171\n",
      "--> DMFT Converged: dG_l = 0.001171\n",
      "--> DMFT Iteration: 0\n",
      "--> DMFT Convergence: dG_l = 1.348867\n",
      "--> DMFT Iteration: 1\n",
      "--> DMFT Convergence: dG_l = 0.071109\n",
      "--> DMFT Iteration: 2\n"
     ]
    },
    {
     "name": "stderr",
     "output_type": "stream",
     "text": [
      "50it [00:08,  5.81it/s]"
     ]
    },
    {
     "name": "stdout",
     "output_type": "stream",
     "text": [
      "--> DMFT Convergence: dG_l = 0.006463\n",
      "--> DMFT Iteration: 3\n",
      "--> DMFT Convergence: dG_l = 0.000536\n",
      "--> DMFT Converged: dG_l = 0.000536\n",
      "--> DMFT Iteration: 0\n",
      "--> DMFT Convergence: dG_l = 2.879270\n",
      "--> DMFT Iteration: 1\n",
      "--> DMFT Convergence: dG_l = 0.114538\n",
      "--> DMFT Iteration: 2\n",
      "--> DMFT Convergence: dG_l = 0.019040\n",
      "--> DMFT Iteration: 3\n",
      "--> DMFT Convergence: dG_l = 0.001287\n",
      "--> DMFT Converged: dG_l = 0.001287\n",
      "443\n"
     ]
    },
    {
     "name": "stderr",
     "output_type": "stream",
     "text": [
      "\n"
     ]
    }
   ],
   "source": [
    "def load_db(filename):\n",
    "    n_entries = 0\n",
    "    params = 0\n",
    "    smpls_list = 0\n",
    "    data2train = []\n",
    "    with HDFArchive(filename, 'r') as ar:\n",
    "        n_entries = ar['n_entries']\n",
    "        params = ar[\"params\"] \n",
    "        smpls_list = ar[\"samples\"] \n",
    "        # a = smpls_list[0]['pc']\n",
    "        # print(a.iter)\n",
    "        # print(params)\n",
    "        for smpl_id, sample in tqdm(enumerate(smpls_list)):\n",
    "            ps = sample['pc']\n",
    "            prms = params[smpl_id]\n",
    "            dt2train = []\n",
    "\n",
    "            p = ParameterCollection(\n",
    "                U = prms['U'],\n",
    "                mu = 0.,\n",
    "                n_k = 10,\n",
    "                n_iter = 7,\n",
    "                G_l_tol = 5e-3\n",
    "                )\n",
    "\n",
    "            p.solve = ParameterCollection(\n",
    "                length_cycle = 15,\n",
    "                n_warmup_cycles = 3000,\n",
    "                n_cycles = int(5e6),\n",
    "                move_double = False,\n",
    "                measure_G_l = True,\n",
    "                verbosity= 2\n",
    "                )\n",
    "\n",
    "            p.init = ParameterCollection(\n",
    "                beta = prms['beta'],\n",
    "                n_l = 30,\n",
    "                n_iw = 400,\n",
    "                n_tau = 4001,\n",
    "                gf_struct = [('up', 1), ('dn', 1)]\n",
    "                )\n",
    "\n",
    "            p0 = setup_dmft_calculation(p, sample['BS'][:, np.newaxis,  np.newaxis])\n",
    "            p0.n_iter = 10\n",
    "            ps_ML = solve_self_consistent_dmftML(p0, MLmodel)\n",
    "            sigmaML = np.real(ps_ML[-1].sigma_w.data.flatten()[400:])\n",
    "            sigmaEx = np.real(ps[-1].sigma_w.data.flatten()[400:])\n",
    "            grid = 2.*np.pi/prms['beta']\n",
    "            Zex = 1./(1. - (sigmaEx[4] - sigmaEx[0])/grid/4.0)\n",
    "            Zml = 1./(1. - (sigmaML[4] - sigmaML[0])/grid/4.0)\n",
    "\n",
    "\n",
    "            for p in ps:\n",
    "                dt2train.append(\n",
    "                    [ \n",
    "                        [p.time2solve, p.averageorder],\n",
    "                        [prms['U'], prms['beta'], p.g0_l.data.flatten()[:30]],\n",
    "                        [ p.g_l.data.flatten()[:30]],\n",
    "                        [Zex, Zml]\n",
    "                    ]\n",
    "                )\n",
    "            \n",
    "            \n",
    "            data2train.extend(dt2train)\n",
    "    return data2train\n",
    "\n",
    "# db_names = [\n",
    "#     'database_v4.h5',\n",
    "#     'database_v5.h5',\n",
    "#     'database_v6.h5'\n",
    "#             ]\n",
    "db_names = ['./data/databaseV14.h5',\n",
    "            './data/databaseV15.h5']\n",
    "data_list = [load_db(db_name) for db_name in db_names]\n",
    "data = []\n",
    "for dataq in data_list:\n",
    "    data.extend(dataq)\n",
    "print(len(data))"
   ]
  },
  {
   "cell_type": "code",
   "execution_count": 12,
   "metadata": {},
   "outputs": [],
   "source": [
    "# def load_db(filename):\n",
    "#     n_entries = 0\n",
    "#     params = 0\n",
    "#     smpls_list = 0\n",
    "#     with HDFArchive(filename, 'r') as ar:\n",
    "#         n_entries = ar['n_entries']\n",
    "#         params = ar[\"params\"] \n",
    "#         smpls_list = ar[\"samples\"] \n",
    "#     # print(params)\n",
    "#     data2train = [ [[sample['time2solve'], sample['averageorder']],\n",
    "#                     [params[smpl_id]['U'], params[smpl_id]['beta'], \n",
    "#                       np.real(sample['G0_l'].data).flatten()[:30]], \n",
    "#                     [ np.real(sample['G_l'].data).flatten()]]  \n",
    "#                   for smpl_id, sample in enumerate(smpls_list)] \n",
    "#     return data2train\n",
    "\n",
    "# # db_names = [\n",
    "# #     'database_v4.h5',\n",
    "# #     'database_v5.h5',\n",
    "# #     'database_v6.h5'\n",
    "# #             ]\n",
    "# db_names = ['./data/databaseV8.h5',\n",
    "#             './data/databaseV9.h5',\n",
    "#             './data/databaseV10.h5',\n",
    "#             './data/databaseV11.h5']\n",
    "# data_list = [load_db(db_name) for db_name in db_names]\n",
    "# data = []\n",
    "# for dataq in data_list:\n",
    "#     data.extend(dataq)\n",
    "# print(len(data))"
   ]
  },
  {
   "cell_type": "code",
   "execution_count": 26,
   "metadata": {},
   "outputs": [],
   "source": [
    "U       = np.array([sample[1][0] for sample in data])\n",
    "beta    = np.array([sample[1][1] for sample in data])\n",
    "times   = np.array([sample[0][0] for sample in data])\n",
    "order   = np.array([sample[0][1] for sample in data])\n",
    "\n",
    "Zex   = np.array([sample[3][0] for sample in data])\n",
    "Zml   = np.array([sample[3][1] for sample in data])\n"
   ]
  },
  {
   "cell_type": "code",
   "execution_count": 36,
   "metadata": {},
   "outputs": [
    {
     "data": {
      "text/plain": [
       "(1.05, 1.15)"
      ]
     },
     "execution_count": 36,
     "metadata": {},
     "output_type": "execute_result"
    },
    {
     "data": {
      "image/png": "[encoded data removed]",
      "text/plain": [
       "<Figure size 500x500 with 2 Axes>"
      ]
     },
     "metadata": {},
     "output_type": "display_data"
    }
   ],
   "source": [
    "fig, ax = plt.subplots( figsize=(5, 5))\n",
    "\n",
    "ax.scatter(Zex, Zml)\n",
    "ax.set_ylabel(r'$Z$ ML')\n",
    "ax.set_xlabel(r'$Z$ Exact')\n",
    "ax.set_xlim([1, 1.3])\n",
    "ax.set_ylim([1, 1.3])\n",
    "\n",
    "\n",
    "inset_ax = fig.add_axes([0.6, 0.2, 0.25, 0.25])  # [left, bottom, width, height]\n",
    "inset_ax.scatter(Zex, Zml, color='blue')\n",
    "inset_ax.set_xlim([1.05, 1.15])\n",
    "inset_ax.set_ylim([1.05, 1.15])\n"
   ]
  }
 ],
 "metadata": {
  "kernelspec": {
   "display_name": "triqs",
   "language": "python",
   "name": "python3"
  },
  "language_info": {
   "codemirror_mode": {
    "name": "ipython",
    "version": 3
   },
   "file_extension": ".py",
   "mimetype": "text/x-python",
   "name": "python",
   "nbconvert_exporter": "python",
   "pygments_lexer": "ipython3",
   "version": "3.12.5"
  }
 },
 "nbformat": 4,
 "nbformat_minor": 2
}
