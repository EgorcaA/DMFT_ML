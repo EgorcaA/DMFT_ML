{
 "cells": [
  {
   "cell_type": "code",
   "execution_count": 2,
   "metadata": {},
   "outputs": [
    {
     "name": "stdout",
     "output_type": "stream",
     "text": [
      "Warning: could not identify MPI environment!\n"
     ]
    },
    {
     "name": "stderr",
     "output_type": "stream",
     "text": [
      "Starting serial run at: 2024-09-08 18:50:30.580003\n"
     ]
    }
   ],
   "source": [
    "import copy\n",
    "import glob\n",
    "import numpy as np\n",
    "\n",
    "from triqs.gf import Gf, MeshImFreq, Fourier, LegendreToMatsubara, BlockGf, inverse, Idx\n",
    "\n",
    "import triqs_cthyb\n",
    "\n",
    "from triqs_tprf.lattice import lattice_dyson_g_w\n",
    "from triqs_tprf.ParameterCollection import ParameterCollection\n",
    "from triqs_tprf.ParameterCollection import ParameterCollections\n",
    "from triqs_tprf.utilities import BlockGf_data\n"
   ]
  },
  {
   "cell_type": "code",
   "execution_count": 3,
   "metadata": {},
   "outputs": [],
   "source": [
    "%load_ext autoreload\n",
    "%autoreload 2\n",
    "from common import *\n"
   ]
  },
  {
   "cell_type": "code",
   "execution_count": 5,
   "metadata": {},
   "outputs": [
    {
     "name": "stdout",
     "output_type": "stream",
     "text": [
      "Greens Function  with mesh Brillouin Zone Mesh with linear dimensions (32 32 1)\n",
      " -- units = \n",
      "[[0.19635,0,0]\n",
      " [0,0.19635,0]\n",
      " [0,0,6.28319]]\n",
      " -- brillouin_zone: Brillouin Zone with 2 dimensions and reciprocal matrix \n",
      "[[6.28319,0,0]\n",
      " [0,6.28319,0]\n",
      " [0,0,6.28319]] and target_shape (2, 2): \n",
      "\n"
     ]
    }
   ],
   "source": [
    "\n",
    "p = ParameterCollection(\n",
    "    t = 1.,\n",
    "    B = 0.,\n",
    "    U = 10.,\n",
    "    mu = 0.,\n",
    "    n_k = 16,\n",
    "    n_iter = 10,\n",
    "    G_l_tol = 1e-5,\n",
    "    )\n",
    "\n",
    "p.solve = ParameterCollection(\n",
    "    length_cycle = 10,\n",
    "    n_warmup_cycles = 1000,\n",
    "    n_cycles = int(8e3),\n",
    "    move_double = False,\n",
    "    measure_G_l = True,\n",
    "    )\n",
    "\n",
    "p.init = ParameterCollection(\n",
    "    beta = 1.,\n",
    "    n_l = 10,\n",
    "    n_iw = 400,\n",
    "    n_tau = 4000,\n",
    "    gf_struct = [('up',[0]), ('do',[0])])\n",
    "\n",
    "p0 = setup_dmft_calculation(p)\n",
    "\n",
    "# ps = solve_self_consistent_dmft(p0)\n"
   ]
  },
  {
   "cell_type": "code",
   "execution_count": 20,
   "metadata": {},
   "outputs": [
    {
     "name": "stdout",
     "output_type": "stream",
     "text": [
      "Greens Function  with mesh Brillouin Zone Mesh with linear dimensions (10 10 1)\n",
      " -- units = \n",
      "[[0.628319,0,0]\n",
      " [0,0.628319,0]\n",
      " [0,0,6.28319]]\n",
      " -- brillouin_zone: Brillouin Zone with 2 dimensions and reciprocal matrix \n",
      "[[6.28319,0,0]\n",
      " [0,6.28319,0]\n",
      " [0,0,6.28319]] and target_shape (1, 1): \n",
      "\n"
     ]
    }
   ],
   "source": [
    "from triqs_tprf.tight_binding import create_square_lattice\n",
    "\n",
    "\n",
    "# -- 2D square lattice w. nearest neighbour hopping t\n",
    "square_lattice = create_square_lattice(norb=1, t=1.0)\n",
    "nk = 10\n",
    "dim = 2\n",
    "kmesh = square_lattice.get_kmesh(n_k=[nk] * dim + [1] * (3 - dim))\n",
    "e_k = square_lattice.fourier(kmesh)\n"
   ]
  },
  {
   "cell_type": "code",
   "execution_count": 25,
   "metadata": {},
   "outputs": [],
   "source": [
    "e_k.data[:] = np.ones((100, 1, 1))"
   ]
  },
  {
   "cell_type": "code",
   "execution_count": 10,
   "metadata": {},
   "outputs": [],
   "source": [
    "from triqs_tprf.lattice import lattice_dyson_g_w\n"
   ]
  },
  {
   "cell_type": "code",
   "execution_count": 11,
   "metadata": {},
   "outputs": [
    {
     "data": {
      "text/plain": [
       "array([[1., 1.],\n",
       "       [1., 1.]])"
      ]
     },
     "execution_count": 11,
     "metadata": {},
     "output_type": "execute_result"
    }
   ],
   "source": [
    "np.ones((2, 2))"
   ]
  },
  {
   "cell_type": "code",
   "execution_count": 13,
   "metadata": {},
   "outputs": [
    {
     "ename": "TypeError",
     "evalue": "Error: no suitable C++ overload found in implementation of function lattice.lattice_dyson_g_w\n\nlattice_dyson_g_w(double mu, triqs_tprf::e_k_cvt e_k, triqs_tprf::g_w_cvt sigma_w) -> triqs_tprf::g_w_t \n failed with the error : \n  Error message was not convertible to raw string.\n\nlattice_dyson_g_w(double mu, triqs_tprf::e_k_cvt e_k, triqs_tprf::g_Dw_cvt sigma_w) -> triqs_tprf::g_Dw_t \n failed with the error : \n  Error message was not convertible to raw string.\n",
     "output_type": "error",
     "traceback": [
      "\u001b[0;31m---------------------------------------------------------------------------\u001b[0m",
      "\u001b[0;31mTypeError\u001b[0m                                 Traceback (most recent call last)",
      "Cell \u001b[0;32mIn[13], line 1\u001b[0m\n\u001b[0;32m----> 1\u001b[0m lattice_dyson_g_w(\u001b[38;5;241m0.\u001b[39m, np\u001b[38;5;241m.\u001b[39mones((\u001b[38;5;241m2\u001b[39m, \u001b[38;5;241m2\u001b[39m, \u001b[38;5;241m1\u001b[39m)),  np\u001b[38;5;241m.\u001b[39mdiag([\u001b[38;5;241m0\u001b[39m, \u001b[38;5;241m0\u001b[39m]))\n",
      "\u001b[0;31mTypeError\u001b[0m: Error: no suitable C++ overload found in implementation of function lattice.lattice_dyson_g_w\n\nlattice_dyson_g_w(double mu, triqs_tprf::e_k_cvt e_k, triqs_tprf::g_w_cvt sigma_w) -> triqs_tprf::g_w_t \n failed with the error : \n  Error message was not convertible to raw string.\n\nlattice_dyson_g_w(double mu, triqs_tprf::e_k_cvt e_k, triqs_tprf::g_Dw_cvt sigma_w) -> triqs_tprf::g_Dw_t \n failed with the error : \n  Error message was not convertible to raw string.\n"
     ]
    }
   ],
   "source": [
    "lattice_dyson_g_w(0., np.ones((2, 2, 1)),  np.diag([0, 0]))"
   ]
  },
  {
   "cell_type": "code",
   "execution_count": 16,
   "metadata": {},
   "outputs": [
    {
     "ename": "ImportError",
     "evalue": "cannot import name 'e_k_cvt' from 'triqs_tprf' (/home/egorcaa/miniconda3/envs/triqs/lib/python3.12/site-packages/triqs_tprf/__init__.py)",
     "output_type": "error",
     "traceback": [
      "\u001b[0;31m---------------------------------------------------------------------------\u001b[0m",
      "\u001b[0;31mImportError\u001b[0m                               Traceback (most recent call last)",
      "Cell \u001b[0;32mIn[16], line 1\u001b[0m\n\u001b[0;32m----> 1\u001b[0m \u001b[38;5;28;01mfrom\u001b[39;00m \u001b[38;5;21;01mtriqs_tprf\u001b[39;00m \u001b[38;5;28;01mimport\u001b[39;00m e_k_cvt\n",
      "\u001b[0;31mImportError\u001b[0m: cannot import name 'e_k_cvt' from 'triqs_tprf' (/home/egorcaa/miniconda3/envs/triqs/lib/python3.12/site-packages/triqs_tprf/__init__.py)"
     ]
    }
   ],
   "source": [
    "from triqs_tprf import e_k_cvt"
   ]
  },
  {
   "cell_type": "code",
   "execution_count": null,
   "metadata": {},
   "outputs": [],
   "source": []
  }
 ],
 "metadata": {
  "kernelspec": {
   "display_name": "triqs",
   "language": "python",
   "name": "python3"
  },
  "language_info": {
   "codemirror_mode": {
    "name": "ipython",
    "version": 3
   },
   "file_extension": ".py",
   "mimetype": "text/x-python",
   "name": "python",
   "nbconvert_exporter": "python",
   "pygments_lexer": "ipython3",
   "version": "3.12.5"
  }
 },
 "nbformat": 4,
 "nbformat_minor": 2
}
